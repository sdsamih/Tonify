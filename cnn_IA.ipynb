{
  "nbformat": 4,
  "nbformat_minor": 0,
  "metadata": {
    "colab": {
      "provenance": []
    },
    "kernelspec": {
      "name": "python3",
      "display_name": "Python 3"
    },
    "language_info": {
      "name": "python"
    }
  },
  "cells": [
    {
      "cell_type": "markdown",
      "source": [
        "# Função para receber o gênero de uma música do dataset de acordo com seu ID"
      ],
      "metadata": {
        "id": "beC8RuTq3r4x"
      }
    },
    {
      "cell_type": "code",
      "source": [
        "import pandas as pd\n",
        "\n",
        "def check_gender_by_id(filename, id) -> None | str:\n",
        "    df = pd.read_excel(filename)\n",
        "\n",
        "    genero = df.loc[df['id'] == id, 'genero']\n",
        "    return genero.iloc[0]"
      ],
      "metadata": {
        "id": "ZzsmvSSe32Dq"
      },
      "execution_count": 97,
      "outputs": []
    },
    {
      "cell_type": "code",
      "source": [
        "# Exemplo de uso\n",
        "arquivo = '/content/generos.xlsx'\n",
        "id_musica = 17  # Coloque o ID desejado\n",
        "genero = check_gender_by_id(arquivo, id_musica)\n",
        "print(f'O gênero da música com ID {id_musica} é: {genero}')"
      ],
      "metadata": {
        "colab": {
          "base_uri": "https://localhost:8080/"
        },
        "id": "XTaTYkMQ51hM",
        "outputId": "85e5be41-9916-4a01-dbb8-edd6d6f18368"
      },
      "execution_count": 98,
      "outputs": [
        {
          "output_type": "stream",
          "name": "stdout",
          "text": [
            "O gênero da música com ID 17 é: Pop\n"
          ]
        }
      ]
    },
    {
      "cell_type": "code",
      "source": [],
      "metadata": {
        "id": "8C6RDMiIb8Lx"
      },
      "execution_count": 98,
      "outputs": []
    },
    {
      "cell_type": "code",
      "source": [
        "def dividir_musicas_em_listas(arquivo_xlsx):\n",
        "    # Carrega o arquivo Excel para um DataFrame\n",
        "    df = pd.read_excel(arquivo_xlsx)\n",
        "\n",
        "    # Dicionário para armazenar as músicas de cada gênero\n",
        "    generos = {}\n",
        "\n",
        "    # Itera por todas as músicas no arquivo\n",
        "    for id_musica in df['id']:\n",
        "        # Usa a função check_gender_by_id para obter o gênero da música\n",
        "        genero = check_gender_by_id(arquivo_xlsx, id_musica)\n",
        "\n",
        "        # Se o gênero for válido (não None e dentro da lista de gêneros válidos), adiciona o ID\n",
        "        if genero not in generos:\n",
        "            generos[genero] = []\n",
        "        generos[genero].append(id_musica)\n",
        "\n",
        "    # Listas para armazenar as músicas de treino, validação e teste\n",
        "    musicas_treino = []\n",
        "    musicas_validacao = []\n",
        "    musicas_teste = []\n",
        "\n",
        "    # Agora, vamos dividir as músicas por gênero em treino, validação e teste de forma aleatória\n",
        "    for genero, musicas in generos.items():\n",
        "        # Embaralha as músicas para aleatoriedade\n",
        "        random.shuffle(musicas)\n",
        "\n",
        "        # Verifica se há pelo menos 30 músicas para dividir\n",
        "\n",
        "        if len(musicas)<10:\n",
        "          print(f\"Erro: genero {genero} com poucas músicas\")\n",
        "          return\n",
        "        else:\n",
        "          total = len(musicas)\n",
        "\n",
        "          idx_70 = int(0.7 * total) #limites para dividir com qualquer tamanho\n",
        "          idx_90 = int(0.9 * total)\n",
        "\n",
        "          treino = musicas[:idx_70]\n",
        "          validacao = musicas[idx_70:idx_90]\n",
        "          teste = musicas[idx_90:]\n",
        "\n",
        "          # Adiciona as listas para cada categoria\n",
        "          musicas_treino.extend(treino)\n",
        "          musicas_validacao.extend(validacao)\n",
        "          musicas_teste.extend(teste)\n",
        "\n",
        "\n",
        "    # Retorna as 3 listas\n",
        "    return musicas_treino, musicas_validacao, musicas_teste"
      ],
      "metadata": {
        "id": "9j_nOG1e9W94"
      },
      "execution_count": 99,
      "outputs": []
    },
    {
      "cell_type": "code",
      "source": [
        "import random\n",
        "treino,validacao,teste = dividir_musicas_em_listas('/content/generos.xlsx')"
      ],
      "metadata": {
        "id": "neDvYuGb9bHx",
        "colab": {
          "base_uri": "https://localhost:8080/"
        },
        "outputId": "ec84acce-cd9b-419f-c9a5-a524bbd92f0f"
      },
      "execution_count": 100,
      "outputs": [
        {
          "output_type": "stream",
          "name": "stderr",
          "text": [
            "Exception ignored in: <function _xla_gc_callback at 0x7fe07dc9db40>\n",
            "Traceback (most recent call last):\n",
            "  File \"/usr/local/lib/python3.10/dist-packages/jax/_src/lib/__init__.py\", line 96, in _xla_gc_callback\n",
            "    def _xla_gc_callback(*args):\n",
            "KeyboardInterrupt: \n"
          ]
        }
      ]
    },
    {
      "cell_type": "code",
      "source": [
        "for x in treino:\n",
        "  print(check_gender_by_id('/content/generos.xlsx',x))"
      ],
      "metadata": {
        "colab": {
          "base_uri": "https://localhost:8080/"
        },
        "id": "8z1jih8o90tc",
        "outputId": "60ad89e9-f16f-4dbb-eb8a-4c470a9f8fe1",
        "collapsed": true
      },
      "execution_count": 101,
      "outputs": [
        {
          "output_type": "stream",
          "name": "stdout",
          "text": [
            "Rock\n",
            "Rock\n",
            "Rock\n",
            "Rock\n",
            "Rock\n",
            "Rock\n",
            "Rock\n",
            "Rock\n",
            "Rock\n",
            "Rock\n",
            "Rock\n",
            "Rock\n",
            "Rock\n",
            "Rock\n",
            "Rock\n",
            "Rock\n",
            "Rock\n",
            "Rock\n",
            "Rock\n",
            "Rock\n",
            "Rock\n",
            "Pop\n",
            "Pop\n",
            "Pop\n",
            "Pop\n",
            "Pop\n",
            "Pop\n",
            "Pop\n",
            "Pop\n",
            "Pop\n",
            "Pop\n",
            "Pop\n",
            "Pop\n",
            "Pop\n",
            "Pop\n",
            "Pop\n",
            "Pop\n",
            "Pop\n",
            "Pop\n",
            "Pop\n",
            "Pop\n",
            "Pop\n",
            "Eletronical\n",
            "Eletronical\n",
            "Eletronical\n",
            "Eletronical\n",
            "Eletronical\n",
            "Eletronical\n",
            "Eletronical\n",
            "Eletronical\n",
            "Eletronical\n",
            "Eletronical\n",
            "Eletronical\n",
            "Eletronical\n",
            "Eletronical\n",
            "Eletronical\n",
            "Eletronical\n",
            "Eletronical\n",
            "Eletronical\n",
            "Eletronical\n",
            "Eletronical\n",
            "Eletronical\n",
            "Eletronical\n",
            "Classical\n",
            "Classical\n",
            "Classical\n",
            "Classical\n",
            "Classical\n",
            "Classical\n",
            "Classical\n",
            "Classical\n",
            "Classical\n",
            "Classical\n",
            "Classical\n",
            "Classical\n",
            "Classical\n",
            "Classical\n",
            "Classical\n",
            "Classical\n",
            "Classical\n",
            "Classical\n",
            "Classical\n",
            "Classical\n",
            "Classical\n",
            "Jazz\n",
            "Jazz\n",
            "Jazz\n",
            "Jazz\n",
            "Jazz\n",
            "Jazz\n",
            "Jazz\n",
            "Jazz\n",
            "Jazz\n",
            "Jazz\n",
            "Jazz\n",
            "Jazz\n",
            "Jazz\n",
            "Jazz\n",
            "Jazz\n",
            "Jazz\n",
            "Jazz\n",
            "Jazz\n",
            "Jazz\n",
            "Jazz\n",
            "Jazz\n",
            "Country\n",
            "Country\n",
            "Country\n",
            "Country\n",
            "Country\n",
            "Country\n",
            "Country\n",
            "Country\n",
            "Country\n",
            "Country\n",
            "Country\n",
            "Country\n",
            "Country\n",
            "Country\n",
            "Country\n",
            "Country\n",
            "Country\n",
            "Country\n",
            "Country\n",
            "Country\n",
            "Country\n"
          ]
        }
      ]
    },
    {
      "cell_type": "code",
      "source": [
        "# Exemplo: Gêneros associados aos IDs\n",
        "id_to_genre = {\n",
        "    0: \"Rock\",\n",
        "    1: \"Pop\",\n",
        "    2: \"Jazz\",\n",
        "    3: \"Eletronical\",\n",
        "    4: \"Classical\",\n",
        "    5: \"Country\"\n",
        "    # Adicione todos os IDs e seus gêneros\n",
        "}\n",
        "\n",
        "# Converta os gêneros para índices numéricos para o treinamento\n",
        "genre_to_index = {genre: idx for idx, genre in enumerate(set(id_to_genre.values()))}\n",
        "\n",
        "# Exemplo: rock -> 0, pop -> 1, jazz -> 2\n",
        "id_to_label = {id: genre_to_index[genre] for id, genre in id_to_genre.items()}\n",
        "\n",
        "print(id_to_genre)\n",
        "print(genre_to_index)\n",
        "print(id_to_label)\n"
      ],
      "metadata": {
        "id": "UgWIruqaplcZ",
        "colab": {
          "base_uri": "https://localhost:8080/"
        },
        "outputId": "864e3dbb-2b66-4c66-fc4f-7b0b51371b9a"
      },
      "execution_count": 102,
      "outputs": [
        {
          "output_type": "stream",
          "name": "stdout",
          "text": [
            "{0: 'Rock', 1: 'Pop', 2: 'Jazz', 3: 'Eletronical', 4: 'Classical', 5: 'Country'}\n",
            "{'Jazz': 0, 'Classical': 1, 'Rock': 2, 'Eletronical': 3, 'Country': 4, 'Pop': 5}\n",
            "{0: 2, 1: 5, 2: 0, 3: 3, 4: 1, 5: 4}\n"
          ]
        }
      ]
    },
    {
      "cell_type": "code",
      "source": [
        "import tensorflow as tf\n",
        "import os\n",
        "\n",
        "\n",
        "base_dir = \"/content/espectrogramas\"\n",
        "\n",
        "def id_to_filepath(id):\n",
        "  return os.path.join(base_dir,f\"{id}.png\")"
      ],
      "metadata": {
        "id": "p2G9EJ80XlH7"
      },
      "execution_count": 103,
      "outputs": []
    },
    {
      "cell_type": "code",
      "source": [
        "df = pd.read_excel('/content/generos.xlsx')\n",
        "\n",
        "# Cria o mapeamento de gêneros para índices\n",
        "genre_to_index = {genre: idx for idx, genre in enumerate(set(df['genero']))}\n",
        "\n",
        "# Mapeia IDs das músicas aos índices das classes\n",
        "id_to_label = {row['id']: genre_to_index[row['genero']] for _, row in df.iterrows()}\n",
        "\n",
        "print(\"id_label:\", id_to_label)\n",
        "print(genre_to_index)"
      ],
      "metadata": {
        "id": "J0k7ixp6sOQq",
        "outputId": "95aa7346-2c36-471a-ee75-3f71ae19952b",
        "colab": {
          "base_uri": "https://localhost:8080/"
        }
      },
      "execution_count": 104,
      "outputs": [
        {
          "output_type": "stream",
          "name": "stdout",
          "text": [
            "id_label: {1: 2, 2: 2, 3: 2, 4: 2, 5: 2, 6: 2, 7: 2, 8: 2, 9: 2, 10: 2, 11: 5, 12: 5, 13: 5, 14: 5, 15: 5, 16: 5, 17: 5, 18: 5, 19: 5, 20: 5, 21: 3, 22: 3, 23: 3, 24: 3, 25: 3, 26: 3, 27: 3, 28: 3, 29: 3, 30: 3, 31: 1, 32: 1, 33: 1, 34: 1, 35: 1, 36: 1, 37: 1, 38: 1, 39: 1, 40: 1, 41: 0, 42: 0, 43: 0, 44: 0, 45: 0, 46: 0, 47: 0, 48: 0, 49: 0, 50: 0, 51: 4, 52: 4, 53: 4, 54: 4, 55: 4, 56: 4, 57: 4, 58: 4, 59: 4, 60: 4, 61: 2, 62: 2, 63: 2, 64: 2, 65: 2, 66: 2, 67: 2, 68: 2, 69: 2, 70: 2, 71: 2, 72: 2, 73: 2, 74: 2, 75: 2, 76: 2, 77: 2, 78: 2, 79: 2, 80: 2, 81: 5, 82: 5, 83: 5, 84: 5, 85: 5, 86: 5, 87: 5, 88: 5, 89: 5, 90: 5, 91: 5, 92: 5, 93: 5, 94: 5, 95: 5, 96: 5, 97: 5, 98: 5, 99: 5, 100: 5, 101: 3, 102: 3, 103: 3, 104: 3, 105: 3, 106: 3, 107: 3, 108: 3, 109: 3, 110: 3, 111: 3, 112: 3, 113: 3, 114: 3, 115: 3, 116: 3, 117: 3, 118: 3, 119: 3, 120: 3, 121: 1, 122: 1, 123: 1, 124: 1, 125: 1, 126: 1, 127: 1, 128: 1, 129: 1, 130: 1, 131: 1, 132: 1, 133: 1, 134: 1, 135: 1, 136: 1, 137: 1, 138: 1, 139: 1, 140: 1, 141: 0, 142: 0, 143: 0, 144: 0, 145: 0, 146: 0, 147: 0, 148: 0, 149: 0, 150: 0, 151: 0, 152: 0, 153: 0, 154: 0, 155: 0, 156: 0, 157: 0, 158: 0, 159: 0, 160: 0, 161: 4, 162: 4, 163: 4, 164: 4, 165: 4, 166: 4, 167: 4, 168: 4, 169: 4, 170: 4, 171: 4, 172: 4, 173: 4, 174: 4, 175: 4, 176: 4, 177: 4, 178: 4, 179: 4, 180: 4}\n",
            "{'Jazz': 0, 'Classical': 1, 'Rock': 2, 'Eletronical': 3, 'Country': 4, 'Pop': 5}\n"
          ]
        }
      ]
    },
    {
      "cell_type": "code",
      "source": [
        "def create_tf_dataset_with_labels(id_list, id_to_label):\n",
        "    filepaths = [id_to_filepath(id) for id in id_list]\n",
        "    labels = [id_to_label[id] for id in id_list]\n",
        "\n",
        "    # Cria um dataset contendo pares (caminho, rótulo)\n",
        "    dataset = tf.data.Dataset.from_tensor_slices((filepaths, labels))\n",
        "\n",
        "    # Carrega a imagem e retorna (imagem, rótulo)\n",
        "    def load_image_and_label(filepath, label):\n",
        "        image = tf.io.read_file(filepath)\n",
        "        image = tf.image.decode_png(image, channels=3)\n",
        "        image = tf.image.resize(image, [224, 224])  # Tamanho esperado pela CNN\n",
        "        return image, label\n",
        "\n",
        "    dataset = dataset.map(load_image_and_label, num_parallel_calls=tf.data.AUTOTUNE)\n",
        "    return dataset\n"
      ],
      "metadata": {
        "id": "fzZv2aEkp-LD"
      },
      "execution_count": 105,
      "outputs": []
    },
    {
      "cell_type": "code",
      "source": [
        "def normalizar_imagem(imagem):\n",
        "    return tf.cast(imagem, tf.float32) / 255.0  # Normaliza para o intervalo [0, 1]\n",
        "\n",
        "train_dataset = create_tf_dataset_with_labels(treino, id_to_label)\n",
        "val_dataset = create_tf_dataset_with_labels(validacao, id_to_label)\n",
        "test_dataset = create_tf_dataset_with_labels(teste, id_to_label)\n",
        "\n",
        "train_dataset = train_dataset.map(lambda imagem, label: (normalizar_imagem(imagem), label))\n",
        "val_dataset = val_dataset.map(lambda imagem, label: (normalizar_imagem(imagem), label))\n",
        "test_dataset = test_dataset.map(lambda imagem, label: (normalizar_imagem(imagem), label))\n",
        "\n",
        "\n",
        "# Agrupar em lotes e otimizar\n",
        "batch_size = 32\n",
        "train_dataset = train_dataset.batch(batch_size).prefetch(tf.data.AUTOTUNE)\n",
        "val_dataset = val_dataset.batch(batch_size).prefetch(tf.data.AUTOTUNE)\n",
        "test_dataset = test_dataset.batch(batch_size).prefetch(tf.data.AUTOTUNE)\n"
      ],
      "metadata": {
        "id": "NQukVDdAp_Ss"
      },
      "execution_count": null,
      "outputs": []
    },
    {
      "cell_type": "code",
      "source": [
        "import cv2 as cv\n",
        "\n",
        "img = cv.imread(\"/content/espectrogramas/125.png\")\n",
        "\n",
        "\n",
        "input_shape = img.shape\n",
        "print(input_shape)\n",
        "num_classes = len(set(id_to_label.values()))\n",
        "print(f\"Quantidade de classes: {num_classes}\")\n",
        "\n",
        "print(num_classes)"
      ],
      "metadata": {
        "id": "CHphZmmBvvSV"
      },
      "execution_count": null,
      "outputs": []
    },
    {
      "cell_type": "code",
      "source": [
        "import os\n",
        "from PIL import Image\n",
        "\n",
        "def verificar_tamanhos_canais_pasta(pasta):\n",
        "    tamanhos = {}\n",
        "    canais = {}\n",
        "    arquivos_verificados = 0\n",
        "\n",
        "    for root, _, files in os.walk(pasta):\n",
        "        for file in files:\n",
        "            if file.endswith((\".png\", \".jpg\", \".jpeg\")):  # Ajuste as extensões conforme necessário\n",
        "                caminho_completo = os.path.join(root, file)\n",
        "                try:\n",
        "                    with Image.open(caminho_completo) as img:\n",
        "                        tamanho = img.size  # (largura, altura)\n",
        "                        modo = img.mode  # Ex.: \"L\", \"RGB\", \"RGBA\"\n",
        "                        canais_count = {'L': 1, 'RGB': 3, 'RGBA': 4}.get(modo, \"Desconhecido\")\n",
        "\n",
        "                        tamanhos[caminho_completo] = tamanho\n",
        "                        canais[caminho_completo] = canais_count\n",
        "                        arquivos_verificados += 1\n",
        "                except Exception as e:\n",
        "                    print(f\"Erro ao processar {caminho_completo}: {e}\")\n",
        "\n",
        "    if arquivos_verificados == 0:\n",
        "        print(\"Nenhum arquivo de imagem foi encontrado na pasta especificada.\")\n",
        "        return\n",
        "\n",
        "    # Identificar se todos têm o mesmo tamanho e canais\n",
        "    tamanhos_unicos = set(tamanhos.values())\n",
        "    canais_unicos = set(canais.values())\n",
        "\n",
        "    print(f\"\\nTotal de imagens verificadas: {arquivos_verificados}\")\n",
        "    if len(tamanhos_unicos) == 1:\n",
        "        print(f\"Todos os espectrogramas têm o mesmo tamanho: {tamanhos_unicos.pop()}\")\n",
        "    else:\n",
        "        print(\"Os tamanhos dos espectrogramas variam. Detalhes:\")\n",
        "        for caminho, tamanho in tamanhos.items():\n",
        "            print(f\"{caminho}: {tamanho}\")\n",
        "\n",
        "    if len(canais_unicos) == 1:\n",
        "        print(f\"Todas as imagens têm o mesmo número de canais: {canais_unicos.pop()}\")\n",
        "    else:\n",
        "        print(\"As imagens têm diferentes números de canais. Detalhes:\")\n",
        "        for caminho, num_canais in canais.items():\n",
        "            print(f\"{caminho}: {num_canais} canais\")\n",
        "\n",
        "# Substitua pelo caminho da sua pasta de espectrogramas\n",
        "caminho_pasta = \"/content/espectrogramas\"\n",
        "verificar_tamanhos_canais_pasta(caminho_pasta)"
      ],
      "metadata": {
        "id": "ijI2J09ayGR3"
      },
      "execution_count": null,
      "outputs": []
    },
    {
      "cell_type": "code",
      "source": [
        "cnn = tf.keras.models.Sequential()\n",
        "cnn.add(tf.keras.layers.Conv2D(filters=32,kernel_size=3, activation='relu', input_shape=(2325,924,3)))\n",
        "cnn.add(tf.keras.layers.MaxPool2D(pool_size = 2))\n",
        "cnn.add(tf.keras.layers.Conv2D(filters=64,kernel_size=3, activation='relu'))\n",
        "cnn.add(tf.keras.layers.MaxPool2D(pool_size = 2))\n",
        "cnn.add(tf.keras.layers.Conv2D(filters=128,kernel_size=3, activation='relu'))\n",
        "cnn.add(tf.keras.layers.MaxPool2D(pool_size = 2))\n",
        "cnn.add(tf.keras.layers.GlobalAveragePooling2D())\n",
        "cnn.add(tf.keras.layers.Dense(units=128, activation='relu'))\n",
        "cnn.add(tf.keras.layers.Dropout(0.5))\n",
        "cnn.add(tf.keras.layers.Dense(units=num_classes, activation='softmax'))\n",
        "cnn.compile(optimizer='adam', loss='categorical_crossentropy', metrics=['accuracy'])\n",
        "\n",
        "cnn.summary()"
      ],
      "metadata": {
        "id": "-wHN_xuttVH_"
      },
      "execution_count": null,
      "outputs": []
    },
    {
      "cell_type": "code",
      "source": [
        "history = cnn.fit(train_dataset, epochs=30, validation_data=val_dataset)"
      ],
      "metadata": {
        "id": "al5feFF0tUmU"
      },
      "execution_count": null,
      "outputs": []
    }
  ]
}