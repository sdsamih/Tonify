{
  "nbformat": 4,
  "nbformat_minor": 0,
  "metadata": {
    "colab": {
      "provenance": []
    },
    "kernelspec": {
      "name": "python3",
      "display_name": "Python 3"
    },
    "language_info": {
      "name": "python"
    }
  },
  "cells": [
    {
      "cell_type": "markdown",
      "source": [
        "# Função para receber o gênero de uma música do dataset de acordo com seu ID"
      ],
      "metadata": {
        "id": "beC8RuTq3r4x"
      }
    },
    {
      "cell_type": "code",
      "source": [
        "import pandas as pd\n",
        "\n",
        "def check_gender_by_id(filename, id, genders) -> None | str:\n",
        "    df = pd.read_excel(filename)\n",
        "\n",
        "    genero = df.loc[df['id'] == id, 'genero']\n",
        "\n",
        "    if not genero.empty:\n",
        "        if genero.iloc[0] in genders:\n",
        "            return genero.iloc[0]\n",
        "        else:\n",
        "            return None\n",
        "    else:\n",
        "        return \"ID not found\""
      ],
      "metadata": {
        "id": "ZzsmvSSe32Dq"
      },
      "execution_count": null,
      "outputs": []
    },
    {
      "cell_type": "code",
      "source": [
        "# Exemplo de uso\n",
        "arquivo = '/content/generos.xlsx'\n",
        "id_musica = 17  # Coloque o ID desejado\n",
        "genders = ['Rock', 'Jazz', 'Pop', 'Classical', 'Country', 'Eletronical']\n",
        "genero = check_gender_by_id(arquivo, id_musica, genders)\n",
        "print(f'O gênero da música com ID {id_musica} é: {genero}')"
      ],
      "metadata": {
        "colab": {
          "base_uri": "https://localhost:8080/"
        },
        "id": "XTaTYkMQ51hM",
        "outputId": "315b0aff-98bc-4004-f9df-623876e022c3"
      },
      "execution_count": null,
      "outputs": [
        {
          "output_type": "stream",
          "name": "stdout",
          "text": [
            "O gênero da música com ID 17 é: Rock\n"
          ]
        }
      ]
    },
    {
      "cell_type": "code",
      "source": [
        "def dividir_musicas_em_listas(arquivo_xlsx, generos_validos):\n",
        "    # Carrega o arquivo Excel para um DataFrame\n",
        "    df = pd.read_excel(arquivo_xlsx)\n",
        "\n",
        "    # Dicionário para armazenar as músicas de cada gênero\n",
        "    generos = {}\n",
        "\n",
        "    # Itera por todas as músicas no arquivo\n",
        "    for id_musica in df['id']:\n",
        "        # Usa a função check_gender_by_id para obter o gênero da música\n",
        "        genero = check_gender_by_id(arquivo_xlsx, id_musica, generos_validos)\n",
        "\n",
        "        # Se o gênero for válido (não None e dentro da lista de gêneros válidos), adiciona o ID\n",
        "        if genero and genero in generos_validos:\n",
        "            if genero not in generos:\n",
        "                generos[genero] = []\n",
        "            generos[genero].append(id_musica)\n",
        "\n",
        "    # Listas para armazenar as músicas de treino, validação e teste\n",
        "    musicas_treino = []\n",
        "    musicas_validacao = []\n",
        "    musicas_teste = []\n",
        "\n",
        "    # Agora, vamos dividir as músicas por gênero em treino, validação e teste de forma aleatória\n",
        "    for genero, musicas in generos.items():\n",
        "        # Embaralha as músicas para aleatoriedade\n",
        "        random.shuffle(musicas)\n",
        "\n",
        "        # Verifica se há pelo menos 30 músicas para dividir\n",
        "        if len(musicas) >= 30:\n",
        "            # Divide as músicas de forma aleatória\n",
        "            treino = musicas[:21]\n",
        "            validacao = musicas[21:27]\n",
        "            teste = musicas[27:30]\n",
        "\n",
        "            # Adiciona as listas para cada categoria\n",
        "            musicas_treino.extend(treino)\n",
        "            musicas_validacao.extend(validacao)\n",
        "            musicas_teste.extend(teste)\n",
        "        else:\n",
        "            # Se houver menos de 30 músicas, podemos decidir o que fazer, mas aqui estamos ignorando as músicas\n",
        "            pass\n",
        "\n",
        "    # Retorna as 3 listas\n",
        "    return musicas_treino, musicas_validacao, musicas_teste"
      ],
      "metadata": {
        "id": "9j_nOG1e9W94"
      },
      "execution_count": null,
      "outputs": []
    },
    {
      "cell_type": "code",
      "source": [
        "import random\n",
        "treino,validacao,teste = dividir_musicas_em_listas('/content/generos.xlsx',genders)"
      ],
      "metadata": {
        "id": "neDvYuGb9bHx"
      },
      "execution_count": null,
      "outputs": []
    },
    {
      "cell_type": "code",
      "source": [
        "for x in treino:\n",
        "  print(check_gender_by_id('/content/generos.xlsx',x,genders))"
      ],
      "metadata": {
        "colab": {
          "base_uri": "https://localhost:8080/"
        },
        "id": "8z1jih8o90tc",
        "outputId": "ce176b13-d293-40d8-8a94-f6276e5e952b",
        "collapsed": true
      },
      "execution_count": null,
      "outputs": [
        {
          "output_type": "stream",
          "name": "stdout",
          "text": [
            "Rock\n",
            "Rock\n",
            "Rock\n",
            "Rock\n",
            "Rock\n",
            "Rock\n",
            "Rock\n",
            "Rock\n",
            "Rock\n",
            "Rock\n",
            "Rock\n",
            "Rock\n",
            "Rock\n",
            "Rock\n",
            "Rock\n",
            "Rock\n",
            "Rock\n",
            "Rock\n",
            "Rock\n",
            "Rock\n",
            "Rock\n",
            "Pop\n",
            "Pop\n",
            "Pop\n",
            "Pop\n",
            "Pop\n",
            "Pop\n",
            "Pop\n",
            "Pop\n",
            "Pop\n",
            "Pop\n",
            "Pop\n",
            "Pop\n",
            "Pop\n",
            "Pop\n",
            "Pop\n",
            "Pop\n",
            "Pop\n",
            "Pop\n",
            "Pop\n",
            "Pop\n",
            "Pop\n",
            "Eletronical\n",
            "Eletronical\n",
            "Eletronical\n",
            "Eletronical\n",
            "Eletronical\n",
            "Eletronical\n",
            "Eletronical\n",
            "Eletronical\n",
            "Eletronical\n",
            "Eletronical\n",
            "Eletronical\n",
            "Eletronical\n",
            "Eletronical\n",
            "Eletronical\n",
            "Eletronical\n",
            "Eletronical\n",
            "Eletronical\n",
            "Eletronical\n",
            "Eletronical\n",
            "Eletronical\n",
            "Eletronical\n",
            "Classical\n",
            "Classical\n",
            "Classical\n",
            "Classical\n",
            "Classical\n",
            "Classical\n",
            "Classical\n",
            "Classical\n",
            "Classical\n",
            "Classical\n",
            "Classical\n",
            "Classical\n",
            "Classical\n",
            "Classical\n",
            "Classical\n",
            "Classical\n",
            "Classical\n",
            "Classical\n",
            "Classical\n",
            "Classical\n",
            "Classical\n",
            "Jazz\n",
            "Jazz\n",
            "Jazz\n",
            "Jazz\n",
            "Jazz\n",
            "Jazz\n",
            "Jazz\n",
            "Jazz\n",
            "Jazz\n",
            "Jazz\n",
            "Jazz\n",
            "Jazz\n",
            "Jazz\n",
            "Jazz\n",
            "Jazz\n",
            "Jazz\n",
            "Jazz\n",
            "Jazz\n",
            "Jazz\n",
            "Jazz\n",
            "Jazz\n",
            "Country\n",
            "Country\n",
            "Country\n",
            "Country\n",
            "Country\n",
            "Country\n",
            "Country\n",
            "Country\n",
            "Country\n",
            "Country\n",
            "Country\n",
            "Country\n",
            "Country\n",
            "Country\n",
            "Country\n",
            "Country\n",
            "Country\n",
            "Country\n",
            "Country\n",
            "Country\n",
            "Country\n"
          ]
        }
      ]
    },
    {
      "cell_type": "code",
      "source": [
        "!unzip \"/content/espectrogramas.zip\""
      ],
      "metadata": {
        "colab": {
          "base_uri": "https://localhost:8080/"
        },
        "id": "F-q7bx-IYkXi",
        "outputId": "f1c0c528-62f0-4375-b0d2-db1186af6adb",
        "collapsed": true
      },
      "execution_count": null,
      "outputs": [
        {
          "output_type": "stream",
          "name": "stdout",
          "text": [
            "Archive:  /content/espectrogramas.zip\n",
            "replace espectrogramas/1.png? [y]es, [n]o, [A]ll, [N]one, [r]ename: A\n",
            "  inflating: espectrogramas/1.png    \n",
            "  inflating: espectrogramas/10.png   \n",
            "  inflating: espectrogramas/100.png  \n",
            "  inflating: espectrogramas/101.png  \n",
            "  inflating: espectrogramas/102.png  \n",
            "  inflating: espectrogramas/103.png  \n",
            "  inflating: espectrogramas/104.png  \n",
            "  inflating: espectrogramas/105.png  \n",
            "  inflating: espectrogramas/106.png  \n",
            "  inflating: espectrogramas/107.png  \n",
            "  inflating: espectrogramas/108.png  \n",
            "  inflating: espectrogramas/109.png  \n",
            "  inflating: espectrogramas/11.png   \n",
            "  inflating: espectrogramas/110.png  \n",
            "  inflating: espectrogramas/111.png  \n",
            "  inflating: espectrogramas/112.png  \n",
            "  inflating: espectrogramas/113.png  \n",
            "  inflating: espectrogramas/114.png  \n",
            "  inflating: espectrogramas/115.png  \n",
            "  inflating: espectrogramas/116.png  \n",
            "  inflating: espectrogramas/117.png  \n",
            "  inflating: espectrogramas/118.png  \n",
            "  inflating: espectrogramas/119.png  \n",
            "  inflating: espectrogramas/12.png   \n",
            "  inflating: espectrogramas/120.png  \n",
            "  inflating: espectrogramas/121.png  \n",
            "  inflating: espectrogramas/122.png  \n",
            "  inflating: espectrogramas/123.png  \n",
            "  inflating: espectrogramas/124.png  \n",
            "  inflating: espectrogramas/125.png  \n",
            "  inflating: espectrogramas/126.png  \n",
            "  inflating: espectrogramas/127.png  \n",
            "  inflating: espectrogramas/128.png  \n",
            "  inflating: espectrogramas/129.png  \n",
            "  inflating: espectrogramas/13.png   \n",
            "  inflating: espectrogramas/130.png  \n",
            "  inflating: espectrogramas/131.png  \n",
            "  inflating: espectrogramas/132.png  \n",
            "  inflating: espectrogramas/133.png  \n",
            "  inflating: espectrogramas/134.png  \n",
            "  inflating: espectrogramas/135.png  \n",
            "  inflating: espectrogramas/136.png  \n",
            "  inflating: espectrogramas/137.png  \n",
            "  inflating: espectrogramas/138.png  \n",
            "  inflating: espectrogramas/139.png  \n",
            "  inflating: espectrogramas/14.png   \n",
            "  inflating: espectrogramas/140.png  \n",
            "  inflating: espectrogramas/141.png  \n",
            "  inflating: espectrogramas/142.png  \n",
            "  inflating: espectrogramas/143.png  \n",
            "  inflating: espectrogramas/144.png  \n",
            "  inflating: espectrogramas/145.png  \n",
            "  inflating: espectrogramas/146.png  \n",
            "  inflating: espectrogramas/147.png  \n",
            "  inflating: espectrogramas/148.png  \n",
            "  inflating: espectrogramas/149.png  \n",
            "  inflating: espectrogramas/15.png   \n",
            "  inflating: espectrogramas/150.png  \n",
            "  inflating: espectrogramas/151.png  \n",
            "  inflating: espectrogramas/152.png  \n",
            "  inflating: espectrogramas/153.png  \n",
            "  inflating: espectrogramas/154.png  \n",
            "  inflating: espectrogramas/155.png  \n",
            "  inflating: espectrogramas/156.png  \n",
            "  inflating: espectrogramas/157.png  \n",
            "  inflating: espectrogramas/158.png  \n",
            "  inflating: espectrogramas/159.png  \n",
            "  inflating: espectrogramas/16.png   \n",
            "  inflating: espectrogramas/160.png  \n",
            "  inflating: espectrogramas/161.png  \n",
            "  inflating: espectrogramas/162.png  \n",
            "  inflating: espectrogramas/163.png  \n",
            "  inflating: espectrogramas/164.png  \n",
            "  inflating: espectrogramas/165.png  \n",
            "  inflating: espectrogramas/166.png  \n",
            "  inflating: espectrogramas/167.png  \n",
            "  inflating: espectrogramas/168.png  \n",
            "  inflating: espectrogramas/169.png  \n",
            "  inflating: espectrogramas/17.png   \n",
            "  inflating: espectrogramas/170.png  \n",
            "  inflating: espectrogramas/171.png  \n",
            "  inflating: espectrogramas/172.png  \n",
            "  inflating: espectrogramas/173.png  \n",
            "  inflating: espectrogramas/174.png  \n",
            "  inflating: espectrogramas/175.png  \n",
            "  inflating: espectrogramas/176.png  \n",
            "  inflating: espectrogramas/177.png  \n",
            "  inflating: espectrogramas/178.png  \n",
            "  inflating: espectrogramas/179.png  \n",
            "  inflating: espectrogramas/18.png   \n",
            "  inflating: espectrogramas/180.png  \n",
            "  inflating: espectrogramas/181.png  \n",
            "  inflating: espectrogramas/182.png  \n",
            "  inflating: espectrogramas/183.png  \n",
            "  inflating: espectrogramas/184.png  \n",
            "  inflating: espectrogramas/185.png  \n",
            "  inflating: espectrogramas/186.png  \n",
            "  inflating: espectrogramas/187.png  \n",
            "  inflating: espectrogramas/188.png  \n",
            "  inflating: espectrogramas/189.png  \n",
            "  inflating: espectrogramas/19.png   \n",
            "  inflating: espectrogramas/190.png  \n",
            "  inflating: espectrogramas/191.png  \n",
            "  inflating: espectrogramas/192.png  \n",
            "  inflating: espectrogramas/193.png  \n",
            "  inflating: espectrogramas/194.png  \n",
            "  inflating: espectrogramas/195.png  \n",
            "  inflating: espectrogramas/196.png  \n",
            "  inflating: espectrogramas/197.png  \n",
            "  inflating: espectrogramas/198.png  \n",
            "  inflating: espectrogramas/199.png  \n",
            "  inflating: espectrogramas/2.png    \n",
            "  inflating: espectrogramas/20.png   \n",
            "  inflating: espectrogramas/200.png  \n",
            "  inflating: espectrogramas/201.png  \n",
            "  inflating: espectrogramas/202.png  \n",
            "  inflating: espectrogramas/203.png  \n",
            "  inflating: espectrogramas/204.png  \n",
            "  inflating: espectrogramas/205.png  \n",
            "  inflating: espectrogramas/206.png  \n",
            "  inflating: espectrogramas/207.png  \n",
            "  inflating: espectrogramas/208.png  \n",
            "  inflating: espectrogramas/209.png  \n",
            "  inflating: espectrogramas/21.png   \n",
            "  inflating: espectrogramas/210.png  \n",
            "  inflating: espectrogramas/211.png  \n",
            "  inflating: espectrogramas/212.png  \n",
            "  inflating: espectrogramas/213.png  \n",
            "  inflating: espectrogramas/214.png  \n",
            "  inflating: espectrogramas/215.png  \n",
            "  inflating: espectrogramas/216.png  \n",
            "  inflating: espectrogramas/217.png  \n",
            "  inflating: espectrogramas/218.png  \n",
            "  inflating: espectrogramas/219.png  \n",
            "  inflating: espectrogramas/22.png   \n",
            "  inflating: espectrogramas/220.png  \n",
            "  inflating: espectrogramas/221.png  \n",
            "  inflating: espectrogramas/222.png  \n",
            "  inflating: espectrogramas/223.png  \n",
            "  inflating: espectrogramas/224.png  \n",
            "  inflating: espectrogramas/225.png  \n",
            "  inflating: espectrogramas/226.png  \n",
            "  inflating: espectrogramas/227.png  \n",
            "  inflating: espectrogramas/228.png  \n",
            "  inflating: espectrogramas/229.png  \n",
            "  inflating: espectrogramas/23.png   \n",
            "  inflating: espectrogramas/230.png  \n",
            "  inflating: espectrogramas/231.png  \n",
            "  inflating: espectrogramas/232.png  \n",
            "  inflating: espectrogramas/233.png  \n",
            "  inflating: espectrogramas/234.png  \n",
            "  inflating: espectrogramas/235.png  \n",
            "  inflating: espectrogramas/236.png  \n",
            "  inflating: espectrogramas/237.png  \n",
            "  inflating: espectrogramas/238.png  \n",
            "  inflating: espectrogramas/239.png  \n",
            "  inflating: espectrogramas/24.png   \n",
            "  inflating: espectrogramas/240.png  \n",
            "  inflating: espectrogramas/241.png  \n",
            "  inflating: espectrogramas/242.png  \n",
            "  inflating: espectrogramas/243.png  \n",
            "  inflating: espectrogramas/244.png  \n",
            "  inflating: espectrogramas/245.png  \n",
            "  inflating: espectrogramas/246.png  \n",
            "  inflating: espectrogramas/247.png  \n",
            "  inflating: espectrogramas/248.png  \n",
            "  inflating: espectrogramas/249.png  \n",
            "  inflating: espectrogramas/25.png   \n",
            "  inflating: espectrogramas/250.png  \n",
            "  inflating: espectrogramas/26.png   \n",
            "  inflating: espectrogramas/27.png   \n",
            "  inflating: espectrogramas/28.png   \n",
            "  inflating: espectrogramas/29.png   \n",
            "  inflating: espectrogramas/3.png    \n",
            "  inflating: espectrogramas/30.png   \n",
            "  inflating: espectrogramas/31.png   \n",
            "  inflating: espectrogramas/32.png   \n",
            "  inflating: espectrogramas/33.png   \n",
            "  inflating: espectrogramas/34.png   \n",
            "  inflating: espectrogramas/35.png   \n",
            "  inflating: espectrogramas/36.png   \n",
            "  inflating: espectrogramas/37.png   \n",
            "  inflating: espectrogramas/38.png   \n",
            "  inflating: espectrogramas/39.png   \n",
            "  inflating: espectrogramas/4.png    \n",
            "  inflating: espectrogramas/40.png   \n",
            "  inflating: espectrogramas/41.png   \n",
            "  inflating: espectrogramas/42.png   \n",
            "  inflating: espectrogramas/43.png   \n",
            "  inflating: espectrogramas/44.png   \n",
            "  inflating: espectrogramas/45.png   \n",
            "  inflating: espectrogramas/46.png   \n",
            "  inflating: espectrogramas/47.png   \n",
            "  inflating: espectrogramas/48.png   \n",
            "  inflating: espectrogramas/49.png   \n",
            "  inflating: espectrogramas/5.png    \n",
            "  inflating: espectrogramas/50.png   \n",
            "  inflating: espectrogramas/51.png   \n",
            "  inflating: espectrogramas/52.png   \n",
            "  inflating: espectrogramas/53.png   \n",
            "  inflating: espectrogramas/54.png   \n",
            "  inflating: espectrogramas/55.png   \n",
            "  inflating: espectrogramas/56.png   \n",
            "  inflating: espectrogramas/57.png   \n",
            "  inflating: espectrogramas/58.png   \n",
            "  inflating: espectrogramas/59.png   \n",
            "  inflating: espectrogramas/6.png    \n",
            "  inflating: espectrogramas/60.png   \n",
            "  inflating: espectrogramas/61.png   \n",
            "  inflating: espectrogramas/62.png   \n",
            "  inflating: espectrogramas/63.png   \n",
            "  inflating: espectrogramas/64.png   \n",
            "  inflating: espectrogramas/65.png   \n",
            "  inflating: espectrogramas/66.png   \n",
            "  inflating: espectrogramas/67.png   \n",
            "  inflating: espectrogramas/68.png   \n",
            "  inflating: espectrogramas/69.png   \n",
            "  inflating: espectrogramas/7.png    \n",
            "  inflating: espectrogramas/70.png   \n",
            "  inflating: espectrogramas/71.png   \n",
            "  inflating: espectrogramas/72.png   \n",
            "  inflating: espectrogramas/73.png   \n",
            "  inflating: espectrogramas/74.png   \n",
            "  inflating: espectrogramas/75.png   \n",
            "  inflating: espectrogramas/76.png   \n",
            "  inflating: espectrogramas/77.png   \n",
            "  inflating: espectrogramas/78.png   \n",
            "  inflating: espectrogramas/79.png   \n",
            "  inflating: espectrogramas/8.png    \n",
            "  inflating: espectrogramas/80.png   \n",
            "  inflating: espectrogramas/81.png   \n",
            "  inflating: espectrogramas/82.png   \n",
            "  inflating: espectrogramas/83.png   \n",
            "  inflating: espectrogramas/84.png   \n",
            "  inflating: espectrogramas/85.png   \n",
            "  inflating: espectrogramas/86.png   \n",
            "  inflating: espectrogramas/87.png   \n",
            "  inflating: espectrogramas/88.png   \n",
            "  inflating: espectrogramas/89.png   \n",
            "  inflating: espectrogramas/9.png    \n",
            "  inflating: espectrogramas/90.png   \n",
            "  inflating: espectrogramas/91.png   \n",
            "  inflating: espectrogramas/92.png   \n",
            "  inflating: espectrogramas/93.png   \n",
            "  inflating: espectrogramas/94.png   \n",
            "  inflating: espectrogramas/95.png   \n",
            "  inflating: espectrogramas/96.png   \n",
            "  inflating: espectrogramas/97.png   \n",
            "  inflating: espectrogramas/98.png   \n",
            "  inflating: espectrogramas/99.png   \n"
          ]
        }
      ]
    },
    {
      "cell_type": "code",
      "source": [
        "# Exemplo: Gêneros associados aos IDs\n",
        "id_to_genre = {\n",
        "    0: \"Rock\",\n",
        "    1: \"Pop\",\n",
        "    2: \"Jazz\",\n",
        "    3: \"Eletronical\",\n",
        "    4: \"Classical\",\n",
        "    5: \"Country\"\n",
        "    # Adicione todos os IDs e seus gêneros\n",
        "}\n",
        "\n",
        "# Converta os gêneros para índices numéricos para o treinamento\n",
        "genre_to_index = {genre: idx for idx, genre in enumerate(set(id_to_genre.values()))}\n",
        "\n",
        "# Exemplo: rock -> 0, pop -> 1, jazz -> 2\n",
        "id_to_label = {id: genre_to_index[genre] for id, genre in id_to_genre.items()}\n"
      ],
      "metadata": {
        "id": "UgWIruqaplcZ"
      },
      "execution_count": null,
      "outputs": []
    },
    {
      "cell_type": "code",
      "source": [
        "import tensorflow as tf\n",
        "import os\n",
        "\n",
        "\n",
        "base_dir = \"/content/espectrogramas\"\n",
        "\n",
        "def id_to_filepath(id):\n",
        "  return os.path.join(base_dir,f\"{id}.png\")"
      ],
      "metadata": {
        "id": "p2G9EJ80XlH7"
      },
      "execution_count": null,
      "outputs": []
    },
    {
      "cell_type": "code",
      "source": [
        "df = pd.read_excel('/content/generos.xlsx')\n",
        "\n",
        "# Cria o mapeamento de gêneros para índices\n",
        "genre_to_index = {genre: idx for idx, genre in enumerate(set(df['genero']))}\n",
        "\n",
        "# Mapeia IDs das músicas aos índices das classes\n",
        "id_to_label = {row['id']: genre_to_index[row['genero']] for _, row in df.iterrows()}\n",
        "\n",
        "print(\"id_label:\", id_to_label)"
      ],
      "metadata": {
        "id": "J0k7ixp6sOQq",
        "outputId": "df70b517-3c95-49b8-90a1-9bfcd59f8922",
        "colab": {
          "base_uri": "https://localhost:8080/"
        }
      },
      "execution_count": null,
      "outputs": [
        {
          "output_type": "stream",
          "name": "stdout",
          "text": [
            "id_label: {1: 6, 2: 6, 3: 6, 4: 6, 5: 6, 6: 6, 7: 6, 8: 6, 9: 6, 10: 6, 11: 0, 12: 0, 13: 0, 14: 0, 15: 0, 16: 0, 17: 0, 18: 0, 19: 0, 20: 0, 21: 10, 22: 10, 23: 10, 24: 10, 25: 10, 26: 10, 27: 10, 28: 10, 29: 10, 30: 10, 31: 7, 32: 7, 33: 7, 34: 7, 35: 7, 36: 7, 37: 7, 38: 7, 39: 7, 40: 7, 41: 9, 42: 9, 43: 9, 44: 9, 45: 9, 46: 9, 47: 9, 48: 9, 49: 9, 50: 9, 51: 1, 52: 1, 53: 1, 54: 1, 55: 1, 56: 1, 57: 1, 58: 1, 59: 1, 60: 1, 61: 2, 62: 2, 63: 2, 64: 2, 65: 2, 66: 2, 67: 2, 68: 2, 69: 2, 70: 2, 71: 8, 72: 8, 73: 8, 74: 8, 75: 8, 76: 8, 77: 8, 78: 8, 79: 8, 80: 8, 81: 4, 82: 4, 83: 4, 84: 4, 85: 4, 86: 4, 87: 4, 88: 4, 89: 4, 90: 4, 91: 3, 92: 3, 93: 3, 94: 3, 95: 3, 96: 3, 97: 3, 98: 3, 99: 3, 100: 3, 101: 5, 102: 5, 103: 5, 104: 5, 105: 5, 106: 5, 107: 5, 108: 5, 109: 5, 110: 5, 111: 6, 112: 6, 113: 6, 114: 6, 115: 6, 116: 6, 117: 6, 118: 6, 119: 6, 120: 6, 121: 6, 122: 6, 123: 6, 124: 6, 125: 6, 126: 6, 127: 6, 128: 6, 129: 6, 130: 6, 131: 0, 132: 0, 133: 0, 134: 0, 135: 0, 136: 0, 137: 0, 138: 0, 139: 0, 140: 0, 141: 0, 142: 0, 143: 0, 144: 0, 145: 0, 146: 0, 147: 0, 148: 0, 149: 0, 150: 0, 151: 7, 152: 7, 153: 7, 154: 7, 155: 7, 156: 7, 157: 7, 158: 7, 159: 7, 160: 7, 161: 7, 162: 7, 163: 7, 164: 7, 165: 7, 166: 7, 167: 7, 168: 7, 169: 7, 170: 7, 171: 9, 172: 9, 173: 9, 174: 9, 175: 9, 176: 9, 177: 9, 178: 9, 179: 9, 180: 9, 181: 9, 182: 9, 183: 9, 184: 9, 185: 9, 186: 9, 187: 9, 188: 9, 189: 9, 190: 9, 191: 1, 192: 1, 193: 1, 194: 1, 195: 1, 196: 1, 197: 1, 198: 1, 199: 1, 200: 1, 201: 1, 202: 1, 203: 1, 204: 1, 205: 1, 206: 1, 207: 1, 208: 1, 209: 1, 210: 1, 211: 4, 212: 4, 213: 4, 214: 4, 215: 4, 216: 4, 217: 4, 218: 4, 219: 4, 220: 4, 221: 4, 222: 4, 223: 4, 224: 4, 225: 4, 226: 4, 227: 4, 228: 4, 229: 4, 230: 4, 231: 3, 232: 3, 233: 3, 234: 3, 235: 3, 236: 3, 237: 3, 238: 3, 239: 3, 240: 3, 241: 3, 242: 3, 243: 3, 244: 3, 245: 3, 246: 3, 247: 3, 248: 3, 249: 3, 250: 3}\n"
          ]
        }
      ]
    },
    {
      "cell_type": "code",
      "source": [
        "def create_tf_dataset_with_labels(id_list, id_to_label):\n",
        "    filepaths = [id_to_filepath(id) for id in id_list]\n",
        "    labels = [id_to_label[id] for id in id_list]\n",
        "\n",
        "    # Cria um dataset contendo pares (caminho, rótulo)\n",
        "    dataset = tf.data.Dataset.from_tensor_slices((filepaths, labels))\n",
        "\n",
        "    # Carrega a imagem e retorna (imagem, rótulo)\n",
        "    def load_image_and_label(filepath, label):\n",
        "        image = tf.io.read_file(filepath)\n",
        "        image = tf.image.decode_jpeg(image, channels=3)\n",
        "        image = tf.image.resize(image, [224, 224])  # Tamanho esperado pela CNN\n",
        "        return image, label\n",
        "\n",
        "    dataset = dataset.map(load_image_and_label, num_parallel_calls=tf.data.AUTOTUNE)\n",
        "    return dataset\n"
      ],
      "metadata": {
        "id": "fzZv2aEkp-LD"
      },
      "execution_count": null,
      "outputs": []
    },
    {
      "cell_type": "code",
      "source": [
        "def normalizar_imagem(imagem):\n",
        "    return tf.cast(imagem, tf.float32) / 255.0  # Normaliza para o intervalo [0, 1]\n",
        "\n",
        "train_dataset = create_tf_dataset_with_labels(treino, id_to_label)\n",
        "val_dataset = create_tf_dataset_with_labels(validacao, id_to_label)\n",
        "test_dataset = create_tf_dataset_with_labels(teste, id_to_label)\n",
        "\n",
        "train_dataset = train_dataset.map(lambda imagem, label: (normalizar_imagem(imagem), label))\n",
        "val_dataset = val_dataset.map(lambda imagem, label: (normalizar_imagem(imagem), label))\n",
        "test_dataset = test_dataset.map(lambda imagem, label: (normalizar_imagem(imagem), label))\n",
        "\n",
        "\n",
        "# Agrupar em lotes e otimizar\n",
        "batch_size = 32\n",
        "train_dataset = train_dataset.batch(batch_size).prefetch(tf.data.AUTOTUNE)\n",
        "val_dataset = val_dataset.batch(batch_size).prefetch(tf.data.AUTOTUNE)\n",
        "test_dataset = test_dataset.batch(batch_size).prefetch(tf.data.AUTOTUNE)\n"
      ],
      "metadata": {
        "id": "NQukVDdAp_Ss"
      },
      "execution_count": null,
      "outputs": []
    },
    {
      "cell_type": "code",
      "source": [
        "import cv2 as cv\n",
        "\n",
        "img = cv.imread(\"/content/espectrogramas/125.png\")\n",
        "\n",
        "\n",
        "input_shape = img.shape\n",
        "print(input_shape)\n",
        "num_classes = len(set(id_to_label.values()))\n",
        "print(f\"Quantidade de classes: {num_classes}\")\n",
        "\n",
        "print(num_classes)"
      ],
      "metadata": {
        "id": "CHphZmmBvvSV",
        "outputId": "848df2c4-03db-4099-c039-73848d168b34",
        "colab": {
          "base_uri": "https://localhost:8080/"
        }
      },
      "execution_count": null,
      "outputs": [
        {
          "output_type": "stream",
          "name": "stdout",
          "text": [
            "(924, 2325, 3)\n",
            "Quantidade de classes: 11\n",
            "11\n"
          ]
        }
      ]
    },
    {
      "cell_type": "code",
      "source": [
        "import os\n",
        "from PIL import Image\n",
        "\n",
        "def verificar_tamanhos_canais_pasta(pasta):\n",
        "    tamanhos = {}\n",
        "    canais = {}\n",
        "    arquivos_verificados = 0\n",
        "\n",
        "    for root, _, files in os.walk(pasta):\n",
        "        for file in files:\n",
        "            if file.endswith((\".png\", \".jpg\", \".jpeg\")):  # Ajuste as extensões conforme necessário\n",
        "                caminho_completo = os.path.join(root, file)\n",
        "                try:\n",
        "                    with Image.open(caminho_completo) as img:\n",
        "                        tamanho = img.size  # (largura, altura)\n",
        "                        modo = img.mode  # Ex.: \"L\", \"RGB\", \"RGBA\"\n",
        "                        canais_count = {'L': 1, 'RGB': 3, 'RGBA': 4}.get(modo, \"Desconhecido\")\n",
        "\n",
        "                        tamanhos[caminho_completo] = tamanho\n",
        "                        canais[caminho_completo] = canais_count\n",
        "                        arquivos_verificados += 1\n",
        "                except Exception as e:\n",
        "                    print(f\"Erro ao processar {caminho_completo}: {e}\")\n",
        "\n",
        "    if arquivos_verificados == 0:\n",
        "        print(\"Nenhum arquivo de imagem foi encontrado na pasta especificada.\")\n",
        "        return\n",
        "\n",
        "    # Identificar se todos têm o mesmo tamanho e canais\n",
        "    tamanhos_unicos = set(tamanhos.values())\n",
        "    canais_unicos = set(canais.values())\n",
        "\n",
        "    print(f\"\\nTotal de imagens verificadas: {arquivos_verificados}\")\n",
        "    if len(tamanhos_unicos) == 1:\n",
        "        print(f\"Todos os espectrogramas têm o mesmo tamanho: {tamanhos_unicos.pop()}\")\n",
        "    else:\n",
        "        print(\"Os tamanhos dos espectrogramas variam. Detalhes:\")\n",
        "        for caminho, tamanho in tamanhos.items():\n",
        "            print(f\"{caminho}: {tamanho}\")\n",
        "\n",
        "    if len(canais_unicos) == 1:\n",
        "        print(f\"Todas as imagens têm o mesmo número de canais: {canais_unicos.pop()}\")\n",
        "    else:\n",
        "        print(\"As imagens têm diferentes números de canais. Detalhes:\")\n",
        "        for caminho, num_canais in canais.items():\n",
        "            print(f\"{caminho}: {num_canais} canais\")\n",
        "\n",
        "# Substitua pelo caminho da sua pasta de espectrogramas\n",
        "caminho_pasta = \"/content/espectrogramas\"\n",
        "verificar_tamanhos_canais_pasta(caminho_pasta)"
      ],
      "metadata": {
        "id": "ijI2J09ayGR3",
        "outputId": "c0a6f385-da4a-41ec-88e1-e6a0af97d294",
        "colab": {
          "base_uri": "https://localhost:8080/"
        }
      },
      "execution_count": null,
      "outputs": [
        {
          "output_type": "stream",
          "name": "stdout",
          "text": [
            "\n",
            "Total de imagens verificadas: 250\n",
            "Todos os espectrogramas têm o mesmo tamanho: (2325, 924)\n",
            "Todas as imagens têm o mesmo número de canais: 4\n"
          ]
        }
      ]
    },
    {
      "cell_type": "code",
      "source": [
        "cnn = tf.keras.models.Sequential()\n",
        "cnn.add(tf.keras.layers.Conv2D(filters=32,kernel_size=3, activation='relu', input_shape=(2325,924,3)))\n",
        "cnn.add(tf.keras.layers.MaxPool2D(pool_size = 2))\n",
        "cnn.add(tf.keras.layers.Conv2D(filters=64,kernel_size=3, activation='relu'))\n",
        "cnn.add(tf.keras.layers.MaxPool2D(pool_size = 2))\n",
        "cnn.add(tf.keras.layers.Conv2D(filters=128,kernel_size=3, activation='relu'))\n",
        "cnn.add(tf.keras.layers.MaxPool2D(pool_size = 2))\n",
        "cnn.add(tf.keras.layers.GlobalAveragePooling2D())\n",
        "cnn.add(tf.keras.layers.Dense(units=128, activation='relu'))\n",
        "cnn.add(tf.keras.layers.Dropout(0.5))\n",
        "cnn.add(tf.keras.layers.Dense(units=num_classes, activation='softmax'))\n",
        "cnn.compile(optimizer='adam', loss='categorical_crossentropy', metrics=['accuracy'])\n",
        "\n",
        "cnn.summary()"
      ],
      "metadata": {
        "id": "-wHN_xuttVH_",
        "outputId": "4a5941ec-f8d8-47b9-9e01-147d281adb85",
        "colab": {
          "base_uri": "https://localhost:8080/",
          "height": 493
        }
      },
      "execution_count": null,
      "outputs": [
        {
          "output_type": "display_data",
          "data": {
            "text/plain": [
              "\u001b[1mModel: \"sequential_1\"\u001b[0m\n"
            ],
            "text/html": [
              "<pre style=\"white-space:pre;overflow-x:auto;line-height:normal;font-family:Menlo,'DejaVu Sans Mono',consolas,'Courier New',monospace\"><span style=\"font-weight: bold\">Model: \"sequential_1\"</span>\n",
              "</pre>\n"
            ]
          },
          "metadata": {}
        },
        {
          "output_type": "display_data",
          "data": {
            "text/plain": [
              "┏━━━━━━━━━━━━━━━━━━━━━━━━━━━━━━━━━━━━━━┳━━━━━━━━━━━━━━━━━━━━━━━━━━━━━┳━━━━━━━━━━━━━━━━━┓\n",
              "┃\u001b[1m \u001b[0m\u001b[1mLayer (type)                        \u001b[0m\u001b[1m \u001b[0m┃\u001b[1m \u001b[0m\u001b[1mOutput Shape               \u001b[0m\u001b[1m \u001b[0m┃\u001b[1m \u001b[0m\u001b[1m        Param #\u001b[0m\u001b[1m \u001b[0m┃\n",
              "┡━━━━━━━━━━━━━━━━━━━━━━━━━━━━━━━━━━━━━━╇━━━━━━━━━━━━━━━━━━━━━━━━━━━━━╇━━━━━━━━━━━━━━━━━┩\n",
              "│ conv2d_3 (\u001b[38;5;33mConv2D\u001b[0m)                    │ (\u001b[38;5;45mNone\u001b[0m, \u001b[38;5;34m2323\u001b[0m, \u001b[38;5;34m922\u001b[0m, \u001b[38;5;34m32\u001b[0m)       │             \u001b[38;5;34m896\u001b[0m │\n",
              "├──────────────────────────────────────┼─────────────────────────────┼─────────────────┤\n",
              "│ max_pooling2d_3 (\u001b[38;5;33mMaxPooling2D\u001b[0m)       │ (\u001b[38;5;45mNone\u001b[0m, \u001b[38;5;34m1161\u001b[0m, \u001b[38;5;34m461\u001b[0m, \u001b[38;5;34m32\u001b[0m)       │               \u001b[38;5;34m0\u001b[0m │\n",
              "├──────────────────────────────────────┼─────────────────────────────┼─────────────────┤\n",
              "│ conv2d_4 (\u001b[38;5;33mConv2D\u001b[0m)                    │ (\u001b[38;5;45mNone\u001b[0m, \u001b[38;5;34m1159\u001b[0m, \u001b[38;5;34m459\u001b[0m, \u001b[38;5;34m64\u001b[0m)       │          \u001b[38;5;34m18,496\u001b[0m │\n",
              "├──────────────────────────────────────┼─────────────────────────────┼─────────────────┤\n",
              "│ max_pooling2d_4 (\u001b[38;5;33mMaxPooling2D\u001b[0m)       │ (\u001b[38;5;45mNone\u001b[0m, \u001b[38;5;34m579\u001b[0m, \u001b[38;5;34m229\u001b[0m, \u001b[38;5;34m64\u001b[0m)        │               \u001b[38;5;34m0\u001b[0m │\n",
              "├──────────────────────────────────────┼─────────────────────────────┼─────────────────┤\n",
              "│ conv2d_5 (\u001b[38;5;33mConv2D\u001b[0m)                    │ (\u001b[38;5;45mNone\u001b[0m, \u001b[38;5;34m577\u001b[0m, \u001b[38;5;34m227\u001b[0m, \u001b[38;5;34m128\u001b[0m)       │          \u001b[38;5;34m73,856\u001b[0m │\n",
              "├──────────────────────────────────────┼─────────────────────────────┼─────────────────┤\n",
              "│ max_pooling2d_5 (\u001b[38;5;33mMaxPooling2D\u001b[0m)       │ (\u001b[38;5;45mNone\u001b[0m, \u001b[38;5;34m288\u001b[0m, \u001b[38;5;34m113\u001b[0m, \u001b[38;5;34m128\u001b[0m)       │               \u001b[38;5;34m0\u001b[0m │\n",
              "├──────────────────────────────────────┼─────────────────────────────┼─────────────────┤\n",
              "│ global_average_pooling2d             │ (\u001b[38;5;45mNone\u001b[0m, \u001b[38;5;34m128\u001b[0m)                 │               \u001b[38;5;34m0\u001b[0m │\n",
              "│ (\u001b[38;5;33mGlobalAveragePooling2D\u001b[0m)             │                             │                 │\n",
              "├──────────────────────────────────────┼─────────────────────────────┼─────────────────┤\n",
              "│ dense_2 (\u001b[38;5;33mDense\u001b[0m)                      │ (\u001b[38;5;45mNone\u001b[0m, \u001b[38;5;34m128\u001b[0m)                 │          \u001b[38;5;34m16,512\u001b[0m │\n",
              "├──────────────────────────────────────┼─────────────────────────────┼─────────────────┤\n",
              "│ dropout_1 (\u001b[38;5;33mDropout\u001b[0m)                  │ (\u001b[38;5;45mNone\u001b[0m, \u001b[38;5;34m128\u001b[0m)                 │               \u001b[38;5;34m0\u001b[0m │\n",
              "├──────────────────────────────────────┼─────────────────────────────┼─────────────────┤\n",
              "│ dense_3 (\u001b[38;5;33mDense\u001b[0m)                      │ (\u001b[38;5;45mNone\u001b[0m, \u001b[38;5;34m11\u001b[0m)                  │           \u001b[38;5;34m1,419\u001b[0m │\n",
              "└──────────────────────────────────────┴─────────────────────────────┴─────────────────┘\n"
            ],
            "text/html": [
              "<pre style=\"white-space:pre;overflow-x:auto;line-height:normal;font-family:Menlo,'DejaVu Sans Mono',consolas,'Courier New',monospace\">┏━━━━━━━━━━━━━━━━━━━━━━━━━━━━━━━━━━━━━━┳━━━━━━━━━━━━━━━━━━━━━━━━━━━━━┳━━━━━━━━━━━━━━━━━┓\n",
              "┃<span style=\"font-weight: bold\"> Layer (type)                         </span>┃<span style=\"font-weight: bold\"> Output Shape                </span>┃<span style=\"font-weight: bold\">         Param # </span>┃\n",
              "┡━━━━━━━━━━━━━━━━━━━━━━━━━━━━━━━━━━━━━━╇━━━━━━━━━━━━━━━━━━━━━━━━━━━━━╇━━━━━━━━━━━━━━━━━┩\n",
              "│ conv2d_3 (<span style=\"color: #0087ff; text-decoration-color: #0087ff\">Conv2D</span>)                    │ (<span style=\"color: #00d7ff; text-decoration-color: #00d7ff\">None</span>, <span style=\"color: #00af00; text-decoration-color: #00af00\">2323</span>, <span style=\"color: #00af00; text-decoration-color: #00af00\">922</span>, <span style=\"color: #00af00; text-decoration-color: #00af00\">32</span>)       │             <span style=\"color: #00af00; text-decoration-color: #00af00\">896</span> │\n",
              "├──────────────────────────────────────┼─────────────────────────────┼─────────────────┤\n",
              "│ max_pooling2d_3 (<span style=\"color: #0087ff; text-decoration-color: #0087ff\">MaxPooling2D</span>)       │ (<span style=\"color: #00d7ff; text-decoration-color: #00d7ff\">None</span>, <span style=\"color: #00af00; text-decoration-color: #00af00\">1161</span>, <span style=\"color: #00af00; text-decoration-color: #00af00\">461</span>, <span style=\"color: #00af00; text-decoration-color: #00af00\">32</span>)       │               <span style=\"color: #00af00; text-decoration-color: #00af00\">0</span> │\n",
              "├──────────────────────────────────────┼─────────────────────────────┼─────────────────┤\n",
              "│ conv2d_4 (<span style=\"color: #0087ff; text-decoration-color: #0087ff\">Conv2D</span>)                    │ (<span style=\"color: #00d7ff; text-decoration-color: #00d7ff\">None</span>, <span style=\"color: #00af00; text-decoration-color: #00af00\">1159</span>, <span style=\"color: #00af00; text-decoration-color: #00af00\">459</span>, <span style=\"color: #00af00; text-decoration-color: #00af00\">64</span>)       │          <span style=\"color: #00af00; text-decoration-color: #00af00\">18,496</span> │\n",
              "├──────────────────────────────────────┼─────────────────────────────┼─────────────────┤\n",
              "│ max_pooling2d_4 (<span style=\"color: #0087ff; text-decoration-color: #0087ff\">MaxPooling2D</span>)       │ (<span style=\"color: #00d7ff; text-decoration-color: #00d7ff\">None</span>, <span style=\"color: #00af00; text-decoration-color: #00af00\">579</span>, <span style=\"color: #00af00; text-decoration-color: #00af00\">229</span>, <span style=\"color: #00af00; text-decoration-color: #00af00\">64</span>)        │               <span style=\"color: #00af00; text-decoration-color: #00af00\">0</span> │\n",
              "├──────────────────────────────────────┼─────────────────────────────┼─────────────────┤\n",
              "│ conv2d_5 (<span style=\"color: #0087ff; text-decoration-color: #0087ff\">Conv2D</span>)                    │ (<span style=\"color: #00d7ff; text-decoration-color: #00d7ff\">None</span>, <span style=\"color: #00af00; text-decoration-color: #00af00\">577</span>, <span style=\"color: #00af00; text-decoration-color: #00af00\">227</span>, <span style=\"color: #00af00; text-decoration-color: #00af00\">128</span>)       │          <span style=\"color: #00af00; text-decoration-color: #00af00\">73,856</span> │\n",
              "├──────────────────────────────────────┼─────────────────────────────┼─────────────────┤\n",
              "│ max_pooling2d_5 (<span style=\"color: #0087ff; text-decoration-color: #0087ff\">MaxPooling2D</span>)       │ (<span style=\"color: #00d7ff; text-decoration-color: #00d7ff\">None</span>, <span style=\"color: #00af00; text-decoration-color: #00af00\">288</span>, <span style=\"color: #00af00; text-decoration-color: #00af00\">113</span>, <span style=\"color: #00af00; text-decoration-color: #00af00\">128</span>)       │               <span style=\"color: #00af00; text-decoration-color: #00af00\">0</span> │\n",
              "├──────────────────────────────────────┼─────────────────────────────┼─────────────────┤\n",
              "│ global_average_pooling2d             │ (<span style=\"color: #00d7ff; text-decoration-color: #00d7ff\">None</span>, <span style=\"color: #00af00; text-decoration-color: #00af00\">128</span>)                 │               <span style=\"color: #00af00; text-decoration-color: #00af00\">0</span> │\n",
              "│ (<span style=\"color: #0087ff; text-decoration-color: #0087ff\">GlobalAveragePooling2D</span>)             │                             │                 │\n",
              "├──────────────────────────────────────┼─────────────────────────────┼─────────────────┤\n",
              "│ dense_2 (<span style=\"color: #0087ff; text-decoration-color: #0087ff\">Dense</span>)                      │ (<span style=\"color: #00d7ff; text-decoration-color: #00d7ff\">None</span>, <span style=\"color: #00af00; text-decoration-color: #00af00\">128</span>)                 │          <span style=\"color: #00af00; text-decoration-color: #00af00\">16,512</span> │\n",
              "├──────────────────────────────────────┼─────────────────────────────┼─────────────────┤\n",
              "│ dropout_1 (<span style=\"color: #0087ff; text-decoration-color: #0087ff\">Dropout</span>)                  │ (<span style=\"color: #00d7ff; text-decoration-color: #00d7ff\">None</span>, <span style=\"color: #00af00; text-decoration-color: #00af00\">128</span>)                 │               <span style=\"color: #00af00; text-decoration-color: #00af00\">0</span> │\n",
              "├──────────────────────────────────────┼─────────────────────────────┼─────────────────┤\n",
              "│ dense_3 (<span style=\"color: #0087ff; text-decoration-color: #0087ff\">Dense</span>)                      │ (<span style=\"color: #00d7ff; text-decoration-color: #00d7ff\">None</span>, <span style=\"color: #00af00; text-decoration-color: #00af00\">11</span>)                  │           <span style=\"color: #00af00; text-decoration-color: #00af00\">1,419</span> │\n",
              "└──────────────────────────────────────┴─────────────────────────────┴─────────────────┘\n",
              "</pre>\n"
            ]
          },
          "metadata": {}
        },
        {
          "output_type": "display_data",
          "data": {
            "text/plain": [
              "\u001b[1m Total params: \u001b[0m\u001b[38;5;34m111,179\u001b[0m (434.29 KB)\n"
            ],
            "text/html": [
              "<pre style=\"white-space:pre;overflow-x:auto;line-height:normal;font-family:Menlo,'DejaVu Sans Mono',consolas,'Courier New',monospace\"><span style=\"font-weight: bold\"> Total params: </span><span style=\"color: #00af00; text-decoration-color: #00af00\">111,179</span> (434.29 KB)\n",
              "</pre>\n"
            ]
          },
          "metadata": {}
        },
        {
          "output_type": "display_data",
          "data": {
            "text/plain": [
              "\u001b[1m Trainable params: \u001b[0m\u001b[38;5;34m111,179\u001b[0m (434.29 KB)\n"
            ],
            "text/html": [
              "<pre style=\"white-space:pre;overflow-x:auto;line-height:normal;font-family:Menlo,'DejaVu Sans Mono',consolas,'Courier New',monospace\"><span style=\"font-weight: bold\"> Trainable params: </span><span style=\"color: #00af00; text-decoration-color: #00af00\">111,179</span> (434.29 KB)\n",
              "</pre>\n"
            ]
          },
          "metadata": {}
        },
        {
          "output_type": "display_data",
          "data": {
            "text/plain": [
              "\u001b[1m Non-trainable params: \u001b[0m\u001b[38;5;34m0\u001b[0m (0.00 B)\n"
            ],
            "text/html": [
              "<pre style=\"white-space:pre;overflow-x:auto;line-height:normal;font-family:Menlo,'DejaVu Sans Mono',consolas,'Courier New',monospace\"><span style=\"font-weight: bold\"> Non-trainable params: </span><span style=\"color: #00af00; text-decoration-color: #00af00\">0</span> (0.00 B)\n",
              "</pre>\n"
            ]
          },
          "metadata": {}
        }
      ]
    },
    {
      "cell_type": "code",
      "source": [
        "history = cnn.fit(train_dataset, epochs=30, validation_data=val_dataset)"
      ],
      "metadata": {
        "id": "al5feFF0tUmU",
        "colab": {
          "base_uri": "https://localhost:8080/",
          "height": 339
        },
        "outputId": "6e81ec92-8ecf-43e1-b69b-c6d487081da8"
      },
      "execution_count": null,
      "outputs": [
        {
          "output_type": "stream",
          "name": "stdout",
          "text": [
            "Epoch 1/30\n"
          ]
        },
        {
          "output_type": "error",
          "ename": "ValueError",
          "evalue": "Arguments `target` and `output` must have the same rank (ndim). Received: target.shape=(None,), output.shape=(None, 11)",
          "traceback": [
            "\u001b[0;31m---------------------------------------------------------------------------\u001b[0m",
            "\u001b[0;31mValueError\u001b[0m                                Traceback (most recent call last)",
            "\u001b[0;32m<ipython-input-16-5ae97457ee36>\u001b[0m in \u001b[0;36m<cell line: 1>\u001b[0;34m()\u001b[0m\n\u001b[0;32m----> 1\u001b[0;31m \u001b[0mhistory\u001b[0m \u001b[0;34m=\u001b[0m \u001b[0mcnn\u001b[0m\u001b[0;34m.\u001b[0m\u001b[0mfit\u001b[0m\u001b[0;34m(\u001b[0m\u001b[0mtrain_dataset\u001b[0m\u001b[0;34m,\u001b[0m \u001b[0mepochs\u001b[0m\u001b[0;34m=\u001b[0m\u001b[0;36m30\u001b[0m\u001b[0;34m,\u001b[0m \u001b[0mvalidation_data\u001b[0m\u001b[0;34m=\u001b[0m\u001b[0mval_dataset\u001b[0m\u001b[0;34m)\u001b[0m\u001b[0;34m\u001b[0m\u001b[0;34m\u001b[0m\u001b[0m\n\u001b[0m",
            "\u001b[0;32m/usr/local/lib/python3.10/dist-packages/keras/src/utils/traceback_utils.py\u001b[0m in \u001b[0;36merror_handler\u001b[0;34m(*args, **kwargs)\u001b[0m\n\u001b[1;32m    120\u001b[0m             \u001b[0;31m# To get the full stack trace, call:\u001b[0m\u001b[0;34m\u001b[0m\u001b[0;34m\u001b[0m\u001b[0m\n\u001b[1;32m    121\u001b[0m             \u001b[0;31m# `keras.config.disable_traceback_filtering()`\u001b[0m\u001b[0;34m\u001b[0m\u001b[0;34m\u001b[0m\u001b[0m\n\u001b[0;32m--> 122\u001b[0;31m             \u001b[0;32mraise\u001b[0m \u001b[0me\u001b[0m\u001b[0;34m.\u001b[0m\u001b[0mwith_traceback\u001b[0m\u001b[0;34m(\u001b[0m\u001b[0mfiltered_tb\u001b[0m\u001b[0;34m)\u001b[0m \u001b[0;32mfrom\u001b[0m \u001b[0;32mNone\u001b[0m\u001b[0;34m\u001b[0m\u001b[0;34m\u001b[0m\u001b[0m\n\u001b[0m\u001b[1;32m    123\u001b[0m         \u001b[0;32mfinally\u001b[0m\u001b[0;34m:\u001b[0m\u001b[0;34m\u001b[0m\u001b[0;34m\u001b[0m\u001b[0m\n\u001b[1;32m    124\u001b[0m             \u001b[0;32mdel\u001b[0m \u001b[0mfiltered_tb\u001b[0m\u001b[0;34m\u001b[0m\u001b[0;34m\u001b[0m\u001b[0m\n",
            "\u001b[0;32m/usr/local/lib/python3.10/dist-packages/keras/src/backend/tensorflow/nn.py\u001b[0m in \u001b[0;36mcategorical_crossentropy\u001b[0;34m(target, output, from_logits, axis)\u001b[0m\n\u001b[1;32m    578\u001b[0m         )\n\u001b[1;32m    579\u001b[0m     \u001b[0;32mif\u001b[0m \u001b[0mlen\u001b[0m\u001b[0;34m(\u001b[0m\u001b[0mtarget\u001b[0m\u001b[0;34m.\u001b[0m\u001b[0mshape\u001b[0m\u001b[0;34m)\u001b[0m \u001b[0;34m!=\u001b[0m \u001b[0mlen\u001b[0m\u001b[0;34m(\u001b[0m\u001b[0moutput\u001b[0m\u001b[0;34m.\u001b[0m\u001b[0mshape\u001b[0m\u001b[0;34m)\u001b[0m\u001b[0;34m:\u001b[0m\u001b[0;34m\u001b[0m\u001b[0;34m\u001b[0m\u001b[0m\n\u001b[0;32m--> 580\u001b[0;31m         raise ValueError(\n\u001b[0m\u001b[1;32m    581\u001b[0m             \u001b[0;34m\"Arguments `target` and `output` must have the same rank \"\u001b[0m\u001b[0;34m\u001b[0m\u001b[0;34m\u001b[0m\u001b[0m\n\u001b[1;32m    582\u001b[0m             \u001b[0;34m\"(ndim). Received: \"\u001b[0m\u001b[0;34m\u001b[0m\u001b[0;34m\u001b[0m\u001b[0m\n",
            "\u001b[0;31mValueError\u001b[0m: Arguments `target` and `output` must have the same rank (ndim). Received: target.shape=(None,), output.shape=(None, 11)"
          ]
        }
      ]
    }
  ]
}